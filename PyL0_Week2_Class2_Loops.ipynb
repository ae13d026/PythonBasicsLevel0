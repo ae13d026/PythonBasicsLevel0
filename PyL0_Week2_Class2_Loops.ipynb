{
  "nbformat": 4,
  "nbformat_minor": 0,
  "metadata": {
    "colab": {
      "name": "PyL0_Week2_Class2_Loops.ipynb",
      "provenance": [],
      "authorship_tag": "ABX9TyOqV5FZVXqEJZ6JE5i7CI6r",
      "include_colab_link": true
    },
    "kernelspec": {
      "name": "python3",
      "display_name": "Python 3"
    },
    "language_info": {
      "name": "python"
    }
  },
  "cells": [
    {
      "cell_type": "markdown",
      "metadata": {
        "id": "view-in-github",
        "colab_type": "text"
      },
      "source": [
        "<a href=\"https://colab.research.google.com/github/ae13d026/PythonBasicsLevel0/blob/main/PyL0_Week2_Class2_Loops.ipynb\" target=\"_parent\"><img src=\"https://colab.research.google.com/assets/colab-badge.svg\" alt=\"Open In Colab\"/></a>"
      ]
    },
    {
      "cell_type": "markdown",
      "metadata": {
        "id": "3bQcmzEEosD4"
      },
      "source": [
        "Updating Variables"
      ]
    },
    {
      "cell_type": "code",
      "metadata": {
        "colab": {
          "base_uri": "https://localhost:8080/"
        },
        "id": "8zLSo6w6oNIG",
        "outputId": "46b8e472-abc9-488d-d11b-fcf8738a1473"
      },
      "source": [
        "x = 0\n",
        "x = x + 1\n",
        "print(x)"
      ],
      "execution_count": 3,
      "outputs": [
        {
          "output_type": "stream",
          "text": [
            "1\n"
          ],
          "name": "stdout"
        }
      ]
    },
    {
      "cell_type": "code",
      "metadata": {
        "colab": {
          "base_uri": "https://localhost:8080/"
        },
        "id": "gfD_k-3Wqa8M",
        "outputId": "95158735-d7d4-470c-c920-fc5699f10619"
      },
      "source": [
        "##\n",
        "## While Statement\n",
        "##\n",
        "n = 5\n",
        "while n > 0 :        # Checking the condition n > 0\n",
        "  \n",
        "  print(n)            # Prints the variable\n",
        "  n = n -1            # Updates the variable n as n - 1\n",
        "  if n == 3:          # Checking the condition if n == 3\n",
        "    continue          # Comes out of the loop\n",
        "\n",
        "print('\\nI am done!')"
      ],
      "execution_count": 15,
      "outputs": [
        {
          "output_type": "stream",
          "text": [
            "5\n",
            "4\n",
            "3\n",
            "2\n",
            "1\n",
            "\n",
            "I am done!\n"
          ],
          "name": "stdout"
        }
      ]
    },
    {
      "cell_type": "code",
      "metadata": {
        "colab": {
          "base_uri": "https://localhost:8080/"
        },
        "id": "Wx4B-3nUo_Of",
        "outputId": "3a816756-9778-4539-d1d6-d2bb6625dfc3"
      },
      "source": [
        "from time import time\n",
        "\n",
        "start_time = time()\n",
        "count = 0\n",
        "for i in range(1000):\n",
        "  count = count + 1\n",
        "end_time = time()\n",
        "seconds_elapsed = end_time - start_time\n",
        "print(\"seconds_elapsed = \",seconds_elapsed)"
      ],
      "execution_count": 16,
      "outputs": [
        {
          "output_type": "stream",
          "text": [
            "seconds_elapsed =  0.0004470348358154297\n"
          ],
          "name": "stdout"
        }
      ]
    },
    {
      "cell_type": "code",
      "metadata": {
        "colab": {
          "base_uri": "https://localhost:8080/"
        },
        "id": "qAKFSw73qCNp",
        "outputId": "07ad1041-602d-4ea8-87a0-9bba2d55b582"
      },
      "source": [
        "num = 19\n",
        "\n",
        "##\n",
        "## A prime number has factors as 1 and the number itself\n",
        "##\n",
        "\n",
        "temp = num - 1\n",
        "while temp >= 1:\n",
        "  if num % temp == 0 and temp != 1:\n",
        "    print(\"not a prime number\")\n",
        "  elif temp == 1:\n",
        "    print(\"The number is prime number\")\n",
        "  temp = temp - 1\n"
      ],
      "execution_count": 21,
      "outputs": [
        {
          "output_type": "stream",
          "text": [
            "18\n",
            "17\n",
            "16\n",
            "15\n",
            "14\n",
            "13\n",
            "12\n",
            "11\n",
            "10\n",
            "9\n",
            "8\n",
            "7\n",
            "6\n",
            "5\n",
            "4\n",
            "3\n",
            "2\n",
            "The number is prime number\n",
            "1\n"
          ],
          "name": "stdout"
        }
      ]
    },
    {
      "cell_type": "code",
      "metadata": {
        "id": "T1NQg6aI3Ckf"
      },
      "source": [
        ""
      ],
      "execution_count": null,
      "outputs": []
    }
  ]
}