{
  "nbformat": 4,
  "nbformat_minor": 0,
  "metadata": {
    "colab": {
      "name": "Colab_Turtle_Practice.ipynb",
      "provenance": [],
      "authorship_tag": "ABX9TyMpLpcy1/3iJfK4873hR5mO",
      "include_colab_link": true
    },
    "kernelspec": {
      "name": "python3",
      "display_name": "Python 3"
    },
    "language_info": {
      "name": "python"
    }
  },
  "cells": [
    {
      "cell_type": "markdown",
      "metadata": {
        "id": "view-in-github",
        "colab_type": "text"
      },
      "source": [
        "<a href=\"https://colab.research.google.com/github/ae13d026/PythonBasicsLevel0/blob/main/Colab_Turtle_Practice.ipynb\" target=\"_parent\"><img src=\"https://colab.research.google.com/assets/colab-badge.svg\" alt=\"Open In Colab\"/></a>"
      ]
    },
    {
      "cell_type": "markdown",
      "metadata": {
        "id": "cc4TXdvgGiwL"
      },
      "source": [
        "# These are the commands for your Reference\n",
        "clear()  clears the screen\n",
        "\n",
        "home() brings the turtle to the middle of the screen (home)\n",
        "\n",
        "forward(10) moves the turtle forward by 10 units\n",
        "\n",
        "backward(10) moves the turtle backwards by 10 units\n",
        "\n",
        "right(90) turns the trutle by 90 degrees\n",
        "\n",
        "left(90) turns the turtle by 90 degress\n",
        "\n",
        "face(90) or heading(90) or setheading(90) turns the turtle to the 90 degrees. Please remember (0-East, 90-south, 180-west, 270-north)\n",
        "\n",
        "penup() lifts the pen, turtle won't draw anything\n",
        "\n",
        "pendown() puts the pen down, turtle will start drawing\n",
        "\n",
        "speed(5) sets the speed of turtle. Speeds vary between 1 to 13. 1 being the slowest and 13 being the fastest\n",
        "\n",
        "setx(10) moves the turtle to the x=10 position and y remains constant\n",
        "\n",
        "sety(10) moves the turtle to the y=10 units, x remains constant\n",
        "\n",
        "getx() or xcor() returns the x co-ordinate\n",
        "\n",
        "get(y) or ycor() returns the y co-ordinate\n",
        "\n",
        "position() or pos() returns the current position of turtle\n",
        "\n",
        "heading() or getheading() returns the direction of the turtle currently. \n",
        "\n",
        "goto(x,y) or setpos(x,y) or setposition(x,y) moves the turtle position to (x,y)\n",
        "\n",
        "goto((x,y)), setpos((x,y)), or setposition((x,y)). We can give values in a tuple or individually.\n",
        "\n",
        "showturtle(), st() makes the turtle visible\n",
        "\n",
        "hideturtle(), ht() makes the turltle hideen\n",
        "\n",
        "isvisible() checks if the turtle is visible or hidden\n",
        "\n",
        "bgcolor() returns the current background color in (r,g,b) values\n",
        "\n",
        "bgcolor(10,20,30) or bgcolor((10,20,30)) changes the background color with red = 10, green = 10, and blue = 10 values\n",
        "\n",
        "color() returns the current turtle color in (r,g,b) values\n",
        "\n",
        "color(10,20,30) or color((10,20,30)) changes the turtle color with red = 10, green = 10, and blue = 10 values\n",
        "\n",
        "width(10) or pensize(10) changes the width of turtle\n",
        "\n",
        "width() or pensize() gives the current width of turtle\n",
        "\n",
        "distance(x,y) or distance((x,y)) returns turtle distance between current positiion to (x,y)\n",
        "\n",
        "write(obj, align=\"left\" or \"center\" or \"right\", font = (20,\"Arial\",\"bold\"); (\"bold\",\"normal\",\"italic\",\"underline\")\n",
        "\n",
        "write(\"YourName\",align=\"center\",font=(20,\"Arial\",\"bold\")) will write \"YourName\" at the current turtle position. Alter the position by goto(x,y) command\n",
        "\n",
        "shape('circle') changes the turtle shape to circle and shape('turtle') changes the circle shape back to turtle\n",
        "\n",
        "window_width() returns the width of turtle window\n",
        "\n",
        "window_height() returns the height of turtle window\n"
      ]
    },
    {
      "cell_type": "markdown",
      "metadata": {
        "id": "JJRAbPEJQoxr"
      },
      "source": [
        "# Initialize the Colab Turtle"
      ]
    },
    {
      "cell_type": "code",
      "metadata": {
        "colab": {
          "base_uri": "https://localhost:8080/",
          "height": 672
        },
        "id": "qLGdP0GOQne2",
        "outputId": "6542d09a-b1ed-48e1-8c59-b43ab553b55e"
      },
      "source": [
        "!pip install ColabTurtle\n",
        "from ColabTurtle.Turtle import *\n",
        "initializeTurtle()"
      ],
      "execution_count": null,
      "outputs": [
        {
          "output_type": "stream",
          "text": [
            "Collecting ColabTurtle\n",
            "  Downloading ColabTurtle-2.1.0.tar.gz (6.8 kB)\n",
            "Building wheels for collected packages: ColabTurtle\n",
            "  Building wheel for ColabTurtle (setup.py) ... \u001b[?25l\u001b[?25hdone\n",
            "  Created wheel for ColabTurtle: filename=ColabTurtle-2.1.0-py3-none-any.whl size=7655 sha256=8289048bc1e061ab0cfbe34363f8af649316a4284af6ba4156d5974ee294f595\n",
            "  Stored in directory: /root/.cache/pip/wheels/0d/ab/65/cc4478508751448dfb4ecb20a6533082855c227dfce8c13902\n",
            "Successfully built ColabTurtle\n",
            "Installing collected packages: ColabTurtle\n",
            "Successfully installed ColabTurtle-2.1.0\n"
          ],
          "name": "stdout"
        },
        {
          "output_type": "display_data",
          "data": {
            "text/html": [
              "\n",
              "      <svg width=\"800\" height=\"500\">\n",
              "        <rect width=\"100%\" height=\"100%\" fill=\"black\"/>\n",
              "        \n",
              "        <g visibility=visible transform=\"rotate(360,400,250) translate(382, 232)\">\n",
              "<path style=\" stroke:none;fill-rule:evenodd;fill:white;fill-opacity:1;\" d=\"M 18.214844 0.632812 C 16.109375 1.800781 15.011719 4.074219 15.074219 7.132812 L 15.085938 7.652344 L 14.785156 7.496094 C 13.476562 6.824219 11.957031 6.671875 10.40625 7.066406 C 8.46875 7.550781 6.515625 9.15625 4.394531 11.992188 C 3.0625 13.777344 2.679688 14.636719 3.042969 15.027344 L 3.15625 15.152344 L 3.519531 15.152344 C 4.238281 15.152344 4.828125 14.886719 8.1875 13.039062 C 9.386719 12.378906 10.371094 11.839844 10.378906 11.839844 C 10.386719 11.839844 10.355469 11.929688 10.304688 12.035156 C 9.832031 13.09375 9.257812 14.820312 8.96875 16.078125 C 7.914062 20.652344 8.617188 24.53125 11.070312 27.660156 C 11.351562 28.015625 11.363281 27.914062 10.972656 28.382812 C 8.925781 30.84375 7.945312 33.28125 8.238281 35.1875 C 8.289062 35.527344 8.28125 35.523438 8.917969 35.523438 C 10.941406 35.523438 13.074219 34.207031 15.136719 31.6875 C 15.359375 31.417969 15.328125 31.425781 15.5625 31.574219 C 16.292969 32.042969 18.023438 32.964844 18.175781 32.964844 C 18.335938 32.964844 19.941406 32.210938 20.828125 31.71875 C 20.996094 31.625 21.136719 31.554688 21.136719 31.558594 C 21.203125 31.664062 21.898438 32.414062 22.222656 32.730469 C 23.835938 34.300781 25.5625 35.132812 27.582031 35.300781 C 27.90625 35.328125 27.9375 35.308594 28.007812 34.984375 C 28.382812 33.242188 27.625 30.925781 25.863281 28.425781 L 25.542969 27.96875 L 25.699219 27.785156 C 28.945312 23.960938 29.132812 18.699219 26.257812 11.96875 L 26.207031 11.84375 L 27.945312 12.703125 C 31.53125 14.476562 32.316406 14.800781 33.03125 14.800781 C 33.976562 14.800781 33.78125 13.9375 32.472656 12.292969 C 28.519531 7.355469 25.394531 5.925781 21.921875 7.472656 L 21.558594 7.636719 L 21.578125 7.542969 C 21.699219 6.992188 21.761719 5.742188 21.699219 5.164062 C 21.496094 3.296875 20.664062 1.964844 19.003906 0.855469 C 18.480469 0.503906 18.457031 0.5 18.214844 0.632812\"/>\n",
              "</g>\n",
              "      </svg>\n",
              "    "
            ],
            "text/plain": [
              "<IPython.core.display.HTML object>"
            ]
          },
          "metadata": {}
        }
      ]
    },
    {
      "cell_type": "markdown",
      "metadata": {
        "id": "dbw1CdjcRNda"
      },
      "source": [
        "# You need only the below commands in this exercise"
      ]
    },
    {
      "cell_type": "code",
      "metadata": {
        "id": "1towkaoVfunU"
      },
      "source": [
        "##\n",
        "## clear() command is used to clear the screen\n",
        "## home() Moves the turtle to home()\n",
        "## goto(x,y) Moves the turtle to (x,y) position\n",
        "## penup() Lifts the pen up, So turtle will not trace\n",
        "## pendown() Puts the pen down, turtle will start tracing\n",
        "## showturtle() Shows the hiding turtle\n",
        "## hideturtle() Hides the turtle()\n"
      ],
      "execution_count": null,
      "outputs": []
    },
    {
      "cell_type": "markdown",
      "metadata": {
        "id": "9-AXHsjBGw4-"
      },
      "source": [
        "# Start filling the gaps with the corresponding commands"
      ]
    },
    {
      "cell_type": "markdown",
      "metadata": {
        "id": "VNpHL9P-Kxgb"
      },
      "source": [
        "# Draw a star and inscribe your name at the mid of it"
      ]
    },
    {
      "cell_type": "code",
      "metadata": {
        "colab": {
          "base_uri": "https://localhost:8080/",
          "height": 521
        },
        "id": "td_QdFmRKxgq",
        "outputId": "271f4a9d-fcaf-4212-85b5-5c7c0f8a5401"
      },
      "source": [
        "## clear the screen\n",
        "## lift the pen up\n",
        "## move turtle to (10,490)\n",
        "## put the pen down\n",
        "## move turtle to (400,10)\n",
        "## move turtle to (790,490)\n",
        "## move turtle to (10,150)\n",
        "## move turtle to (790,150)\n",
        "## move turtle to (10,490)\n",
        "## lift the pen up\n",
        "## move turtle to (400,250)\n",
        "## put the pen down\n",
        "## write(\"NAJAM\",align=\"center\",font=(30,\"Arial\",\"bold\"))  ## Change your name here\n",
        "## hide the turtle\n",
        "##\n",
        "speed(1)\n",
        "name = \"NADIA\"\n",
        "align = \"center\"\n",
        "font = (40,\"Arial\",\"bold\")\n",
        "width = 800\n",
        "height = 500\n",
        "bottomleft = ()\n",
        "clear()\n",
        "penup()\n",
        "goto(10,490)\n",
        "pendown()\n",
        "goto(400,10)\n",
        "goto(790,490)\n",
        "goto(10,150)\n",
        "goto(790,150)\n",
        "goto(10,490)\n",
        "penup()\n",
        "goto(400,250)\n",
        "pendown()\n",
        "write(name,align=align,font=font)\n",
        "hideturtle()\n"
      ],
      "execution_count": 30,
      "outputs": [
        {
          "output_type": "display_data",
          "data": {
            "text/html": [
              "\n",
              "      <svg width=\"800\" height=\"500\">\n",
              "        <rect width=\"100%\" height=\"100%\" fill=\"black\"/>\n",
              "        <line x1=\"10\" y1=\"490\" x2=\"400\" y2=\"10\" stroke-linecap=\"round\" style=\"stroke:white;stroke-width:4\"/><line x1=\"400\" y1=\"10\" x2=\"790\" y2=\"490\" stroke-linecap=\"round\" style=\"stroke:white;stroke-width:4\"/><line x1=\"790\" y1=\"490\" x2=\"10\" y2=\"150\" stroke-linecap=\"round\" style=\"stroke:white;stroke-width:4\"/><line x1=\"10\" y1=\"150\" x2=\"790\" y2=\"150\" stroke-linecap=\"round\" style=\"stroke:white;stroke-width:4\"/><line x1=\"790\" y1=\"150\" x2=\"10\" y2=\"490\" stroke-linecap=\"round\" style=\"stroke:white;stroke-width:4\"/><text x=\"400\" y=\"250\" fill=\"white\" text-anchor=\"middle\" style=\"font-size:40px;font-family:'Arial';font-weight:bold;\">NADIA</text>\n",
              "        <g visibility=hidden transform=\"rotate(90,400,250) translate(382, 232)\">\n",
              "<path style=\" stroke:none;fill-rule:evenodd;fill:white;fill-opacity:1;\" d=\"M 18.214844 0.632812 C 16.109375 1.800781 15.011719 4.074219 15.074219 7.132812 L 15.085938 7.652344 L 14.785156 7.496094 C 13.476562 6.824219 11.957031 6.671875 10.40625 7.066406 C 8.46875 7.550781 6.515625 9.15625 4.394531 11.992188 C 3.0625 13.777344 2.679688 14.636719 3.042969 15.027344 L 3.15625 15.152344 L 3.519531 15.152344 C 4.238281 15.152344 4.828125 14.886719 8.1875 13.039062 C 9.386719 12.378906 10.371094 11.839844 10.378906 11.839844 C 10.386719 11.839844 10.355469 11.929688 10.304688 12.035156 C 9.832031 13.09375 9.257812 14.820312 8.96875 16.078125 C 7.914062 20.652344 8.617188 24.53125 11.070312 27.660156 C 11.351562 28.015625 11.363281 27.914062 10.972656 28.382812 C 8.925781 30.84375 7.945312 33.28125 8.238281 35.1875 C 8.289062 35.527344 8.28125 35.523438 8.917969 35.523438 C 10.941406 35.523438 13.074219 34.207031 15.136719 31.6875 C 15.359375 31.417969 15.328125 31.425781 15.5625 31.574219 C 16.292969 32.042969 18.023438 32.964844 18.175781 32.964844 C 18.335938 32.964844 19.941406 32.210938 20.828125 31.71875 C 20.996094 31.625 21.136719 31.554688 21.136719 31.558594 C 21.203125 31.664062 21.898438 32.414062 22.222656 32.730469 C 23.835938 34.300781 25.5625 35.132812 27.582031 35.300781 C 27.90625 35.328125 27.9375 35.308594 28.007812 34.984375 C 28.382812 33.242188 27.625 30.925781 25.863281 28.425781 L 25.542969 27.96875 L 25.699219 27.785156 C 28.945312 23.960938 29.132812 18.699219 26.257812 11.96875 L 26.207031 11.84375 L 27.945312 12.703125 C 31.53125 14.476562 32.316406 14.800781 33.03125 14.800781 C 33.976562 14.800781 33.78125 13.9375 32.472656 12.292969 C 28.519531 7.355469 25.394531 5.925781 21.921875 7.472656 L 21.558594 7.636719 L 21.578125 7.542969 C 21.699219 6.992188 21.761719 5.742188 21.699219 5.164062 C 21.496094 3.296875 20.664062 1.964844 19.003906 0.855469 C 18.480469 0.503906 18.457031 0.5 18.214844 0.632812\"/>\n",
              "</g>\n",
              "      </svg>\n",
              "    "
            ],
            "text/plain": [
              "<IPython.core.display.HTML object>"
            ]
          },
          "metadata": {}
        }
      ]
    },
    {
      "cell_type": "code",
      "metadata": {
        "id": "7ZG0V4zpf5sp",
        "colab": {
          "base_uri": "https://localhost:8080/",
          "height": 521
        },
        "outputId": "911d3f6b-797f-4e5e-92c3-2ebe01648c2b"
      },
      "source": [
        "name = \"DANIA\"\n",
        "font = (40,\"Arial\",\"bold\")\n",
        "align = \"center\"\n",
        "\n",
        "##\n",
        "## Clear the screen\n",
        "## Stop tracing (Lift the pen up)\n",
        "## Move turtle to home\n",
        "clear()\n",
        "penup()\n",
        "home()\n",
        "##\n",
        "## Start tracing (Put the pen down)\n",
        "##\n",
        "pendown()\n",
        "## Move the turtle to (10,10) position\n",
        "## Move the turtle to (790,10) position\n",
        "## Move the turtle to home location\n",
        "##\n",
        "goto(10,10)\n",
        "goto(790,10)\n",
        "home()\n",
        "##\n",
        "## Move the turtle to (790,10) position\n",
        "## Move the turtle to (790,490) position\n",
        "## Move the turtle to home location\n",
        "##\n",
        "goto(790,10)\n",
        "goto(790,490)\n",
        "home()\n",
        "##\n",
        "## Move the turtle to (790,490) position\n",
        "## Move the turtle to (10,490) position\n",
        "## Move the turtle to home location\n",
        "##\n",
        "goto(790,490)\n",
        "goto(10,490)\n",
        "home()\n",
        "##\n",
        "## Move the turtle to (10,490) position\n",
        "## Move the turtle to (10,10) position\n",
        "## Move the turtle to home location\n",
        "##\n",
        "goto(10,490)\n",
        "goto(10,10)\n",
        "home()\n",
        "##\n",
        "## Stop tracing (pen up)\n",
        "##\n",
        "penup()\n",
        "##\n",
        "## Move the turtle to (200,250) position\n",
        "## Write your name at this position using write(\"Name\",align=\"left\")\n",
        "##\n",
        "goto(200,250)\n",
        "write(name,align=align,font=font)\n",
        "##\n",
        "## Move the turtle to (400,125) position\n",
        "## Write your name at this position using write(\"Name\",align=\"left\")\n",
        "##\n",
        "goto(400,125)\n",
        "write(name,align=align,font=font)\n",
        "##\n",
        "## Move the turtle to (600,250) position\n",
        "## Write your name at this position using write(\"Name\",align=\"left\")\n",
        "##\n",
        "goto(600,250)\n",
        "write(name,align=align,font=font)\n",
        "##\n",
        "## Move the turtle to (300,375) position\n",
        "## Write your name at this position using write(\"Name\",align=\"left\")\n",
        "##\n",
        "goto(400,375)\n",
        "write(name,align=align,font=font)\n",
        "##\n",
        "## Hide the turtle\n",
        "##\n",
        "hideturtle()"
      ],
      "execution_count": 26,
      "outputs": [
        {
          "output_type": "display_data",
          "data": {
            "text/html": [
              "\n",
              "      <svg width=\"800\" height=\"500\">\n",
              "        <rect width=\"100%\" height=\"100%\" fill=\"black\"/>\n",
              "        <line x1=\"400\" y1=\"250\" x2=\"10\" y2=\"10\" stroke-linecap=\"round\" style=\"stroke:white;stroke-width:4\"/><line x1=\"10\" y1=\"10\" x2=\"790\" y2=\"10\" stroke-linecap=\"round\" style=\"stroke:white;stroke-width:4\"/><line x1=\"790\" y1=\"10\" x2=\"400\" y2=\"250\" stroke-linecap=\"round\" style=\"stroke:white;stroke-width:4\"/><line x1=\"400\" y1=\"250\" x2=\"790\" y2=\"10\" stroke-linecap=\"round\" style=\"stroke:white;stroke-width:4\"/><line x1=\"790\" y1=\"10\" x2=\"790\" y2=\"490\" stroke-linecap=\"round\" style=\"stroke:white;stroke-width:4\"/><line x1=\"790\" y1=\"490\" x2=\"400\" y2=\"250\" stroke-linecap=\"round\" style=\"stroke:white;stroke-width:4\"/><line x1=\"400\" y1=\"250\" x2=\"790\" y2=\"490\" stroke-linecap=\"round\" style=\"stroke:white;stroke-width:4\"/><line x1=\"790\" y1=\"490\" x2=\"10\" y2=\"490\" stroke-linecap=\"round\" style=\"stroke:white;stroke-width:4\"/><line x1=\"10\" y1=\"490\" x2=\"400\" y2=\"250\" stroke-linecap=\"round\" style=\"stroke:white;stroke-width:4\"/><line x1=\"400\" y1=\"250\" x2=\"10\" y2=\"490\" stroke-linecap=\"round\" style=\"stroke:white;stroke-width:4\"/><line x1=\"10\" y1=\"490\" x2=\"10\" y2=\"10\" stroke-linecap=\"round\" style=\"stroke:white;stroke-width:4\"/><line x1=\"10\" y1=\"10\" x2=\"400\" y2=\"250\" stroke-linecap=\"round\" style=\"stroke:white;stroke-width:4\"/><text x=\"200\" y=\"250\" fill=\"white\" text-anchor=\"middle\" style=\"font-size:40px;font-family:'Arial';font-weight:bold;\">DANIA</text><text x=\"400\" y=\"125\" fill=\"white\" text-anchor=\"middle\" style=\"font-size:40px;font-family:'Arial';font-weight:bold;\">DANIA</text><text x=\"600\" y=\"250\" fill=\"white\" text-anchor=\"middle\" style=\"font-size:40px;font-family:'Arial';font-weight:bold;\">DANIA</text><text x=\"400\" y=\"375\" fill=\"white\" text-anchor=\"middle\" style=\"font-size:40px;font-family:'Arial';font-weight:bold;\">DANIA</text>\n",
              "        <g visibility=hidden transform=\"rotate(360,400,375) translate(382, 357)\">\n",
              "<path style=\" stroke:none;fill-rule:evenodd;fill:white;fill-opacity:1;\" d=\"M 18.214844 0.632812 C 16.109375 1.800781 15.011719 4.074219 15.074219 7.132812 L 15.085938 7.652344 L 14.785156 7.496094 C 13.476562 6.824219 11.957031 6.671875 10.40625 7.066406 C 8.46875 7.550781 6.515625 9.15625 4.394531 11.992188 C 3.0625 13.777344 2.679688 14.636719 3.042969 15.027344 L 3.15625 15.152344 L 3.519531 15.152344 C 4.238281 15.152344 4.828125 14.886719 8.1875 13.039062 C 9.386719 12.378906 10.371094 11.839844 10.378906 11.839844 C 10.386719 11.839844 10.355469 11.929688 10.304688 12.035156 C 9.832031 13.09375 9.257812 14.820312 8.96875 16.078125 C 7.914062 20.652344 8.617188 24.53125 11.070312 27.660156 C 11.351562 28.015625 11.363281 27.914062 10.972656 28.382812 C 8.925781 30.84375 7.945312 33.28125 8.238281 35.1875 C 8.289062 35.527344 8.28125 35.523438 8.917969 35.523438 C 10.941406 35.523438 13.074219 34.207031 15.136719 31.6875 C 15.359375 31.417969 15.328125 31.425781 15.5625 31.574219 C 16.292969 32.042969 18.023438 32.964844 18.175781 32.964844 C 18.335938 32.964844 19.941406 32.210938 20.828125 31.71875 C 20.996094 31.625 21.136719 31.554688 21.136719 31.558594 C 21.203125 31.664062 21.898438 32.414062 22.222656 32.730469 C 23.835938 34.300781 25.5625 35.132812 27.582031 35.300781 C 27.90625 35.328125 27.9375 35.308594 28.007812 34.984375 C 28.382812 33.242188 27.625 30.925781 25.863281 28.425781 L 25.542969 27.96875 L 25.699219 27.785156 C 28.945312 23.960938 29.132812 18.699219 26.257812 11.96875 L 26.207031 11.84375 L 27.945312 12.703125 C 31.53125 14.476562 32.316406 14.800781 33.03125 14.800781 C 33.976562 14.800781 33.78125 13.9375 32.472656 12.292969 C 28.519531 7.355469 25.394531 5.925781 21.921875 7.472656 L 21.558594 7.636719 L 21.578125 7.542969 C 21.699219 6.992188 21.761719 5.742188 21.699219 5.164062 C 21.496094 3.296875 20.664062 1.964844 19.003906 0.855469 C 18.480469 0.503906 18.457031 0.5 18.214844 0.632812\"/>\n",
              "</g>\n",
              "      </svg>\n",
              "    "
            ],
            "text/plain": [
              "<IPython.core.display.HTML object>"
            ]
          },
          "metadata": {}
        }
      ]
    },
    {
      "cell_type": "code",
      "metadata": {
        "colab": {
          "base_uri": "https://localhost:8080/",
          "height": 521
        },
        "id": "Do-qYgJnLJUK",
        "outputId": "6e8b60fa-a576-41bc-f4f6-1210b6096adf"
      },
      "source": [
        "topleft = (10,10)\n",
        "topright = (780,10)\n",
        "bottomleft = (10,480)\n",
        "bottomright = (780,480)\n",
        "width = 800\n",
        "height = 500\n",
        "speed(5)\n",
        "##\n",
        "##\n",
        "clear()\n",
        "hideturtle()\n",
        "home()\n",
        "##\n",
        "## Upper Triangle\n",
        "##\n",
        "goto(topleft)\n",
        "goto(topright)\n",
        "home()\n",
        "##\n",
        "## RHS Triangle\n",
        "##\n",
        "goto(topright)\n",
        "goto(bottomright)\n",
        "home()\n",
        "##\n",
        "## Lower Triangle\n",
        "##\n",
        "goto(bottomright)\n",
        "goto(bottomleft)\n",
        "home()\n",
        "##\n",
        "## LHS Triangle\n",
        "##\n",
        "goto(bottomleft)\n",
        "goto(topleft)\n",
        "home()\n",
        "##\n",
        "## Stop tracing\n",
        "penup()\n",
        "## Add your name at mid of every triangle\n",
        "##\n",
        "name = \"NAJAM\"\n",
        "align = \"center\"\n",
        "font = (50,\"Arial\",\"bold\")\n",
        "##\n",
        "## Top\n",
        "##\n",
        "goto(width/2,height/4)\n",
        "write(name,align=align,font=font)\n",
        "##\n",
        "## Right\n",
        "##\n",
        "goto(width*0.75,height/2)\n",
        "write(name,align=align,font=font)\n",
        "##\n",
        "## Bottom\n",
        "##\n",
        "goto(width/2,height*0.75)\n",
        "write(name,align=align,font=font)\n",
        "##\n",
        "## Left\n",
        "##\n",
        "goto(width*0.25,height/2)\n",
        "write(name,align=align,font=font)"
      ],
      "execution_count": 34,
      "outputs": [
        {
          "output_type": "display_data",
          "data": {
            "text/html": [
              "\n",
              "      <svg width=\"800\" height=\"500\">\n",
              "        <rect width=\"100%\" height=\"100%\" fill=\"black\"/>\n",
              "        <line x1=\"10\" y1=\"10\" x2=\"400\" y2=\"250\" stroke-linecap=\"round\" style=\"stroke:white;stroke-width:4\"/><line x1=\"400\" y1=\"250\" x2=\"10\" y2=\"10\" stroke-linecap=\"round\" style=\"stroke:white;stroke-width:4\"/><line x1=\"10\" y1=\"10\" x2=\"780\" y2=\"10\" stroke-linecap=\"round\" style=\"stroke:white;stroke-width:4\"/><line x1=\"780\" y1=\"10\" x2=\"400\" y2=\"250\" stroke-linecap=\"round\" style=\"stroke:white;stroke-width:4\"/><line x1=\"400\" y1=\"250\" x2=\"780\" y2=\"10\" stroke-linecap=\"round\" style=\"stroke:white;stroke-width:4\"/><line x1=\"780\" y1=\"10\" x2=\"780\" y2=\"480\" stroke-linecap=\"round\" style=\"stroke:white;stroke-width:4\"/><line x1=\"780\" y1=\"480\" x2=\"400\" y2=\"250\" stroke-linecap=\"round\" style=\"stroke:white;stroke-width:4\"/><line x1=\"400\" y1=\"250\" x2=\"780\" y2=\"480\" stroke-linecap=\"round\" style=\"stroke:white;stroke-width:4\"/><line x1=\"780\" y1=\"480\" x2=\"10\" y2=\"480\" stroke-linecap=\"round\" style=\"stroke:white;stroke-width:4\"/><line x1=\"10\" y1=\"480\" x2=\"400\" y2=\"250\" stroke-linecap=\"round\" style=\"stroke:white;stroke-width:4\"/><line x1=\"400\" y1=\"250\" x2=\"10\" y2=\"480\" stroke-linecap=\"round\" style=\"stroke:white;stroke-width:4\"/><line x1=\"10\" y1=\"480\" x2=\"10\" y2=\"10\" stroke-linecap=\"round\" style=\"stroke:white;stroke-width:4\"/><line x1=\"10\" y1=\"10\" x2=\"400\" y2=\"250\" stroke-linecap=\"round\" style=\"stroke:white;stroke-width:4\"/><text x=\"400.0\" y=\"125.0\" fill=\"white\" text-anchor=\"middle\" style=\"font-size:50px;font-family:'Arial';font-weight:bold;\">NAJAM</text><text x=\"600.0\" y=\"250.0\" fill=\"white\" text-anchor=\"middle\" style=\"font-size:50px;font-family:'Arial';font-weight:bold;\">NAJAM</text><text x=\"400.0\" y=\"375.0\" fill=\"white\" text-anchor=\"middle\" style=\"font-size:50px;font-family:'Arial';font-weight:bold;\">NAJAM</text><text x=\"200.0\" y=\"250.0\" fill=\"white\" text-anchor=\"middle\" style=\"font-size:50px;font-family:'Arial';font-weight:bold;\">NAJAM</text>\n",
              "        <g visibility=hidden transform=\"rotate(360,200.0,250.0) translate(182.0, 232.0)\">\n",
              "<path style=\" stroke:none;fill-rule:evenodd;fill:white;fill-opacity:1;\" d=\"M 18.214844 0.632812 C 16.109375 1.800781 15.011719 4.074219 15.074219 7.132812 L 15.085938 7.652344 L 14.785156 7.496094 C 13.476562 6.824219 11.957031 6.671875 10.40625 7.066406 C 8.46875 7.550781 6.515625 9.15625 4.394531 11.992188 C 3.0625 13.777344 2.679688 14.636719 3.042969 15.027344 L 3.15625 15.152344 L 3.519531 15.152344 C 4.238281 15.152344 4.828125 14.886719 8.1875 13.039062 C 9.386719 12.378906 10.371094 11.839844 10.378906 11.839844 C 10.386719 11.839844 10.355469 11.929688 10.304688 12.035156 C 9.832031 13.09375 9.257812 14.820312 8.96875 16.078125 C 7.914062 20.652344 8.617188 24.53125 11.070312 27.660156 C 11.351562 28.015625 11.363281 27.914062 10.972656 28.382812 C 8.925781 30.84375 7.945312 33.28125 8.238281 35.1875 C 8.289062 35.527344 8.28125 35.523438 8.917969 35.523438 C 10.941406 35.523438 13.074219 34.207031 15.136719 31.6875 C 15.359375 31.417969 15.328125 31.425781 15.5625 31.574219 C 16.292969 32.042969 18.023438 32.964844 18.175781 32.964844 C 18.335938 32.964844 19.941406 32.210938 20.828125 31.71875 C 20.996094 31.625 21.136719 31.554688 21.136719 31.558594 C 21.203125 31.664062 21.898438 32.414062 22.222656 32.730469 C 23.835938 34.300781 25.5625 35.132812 27.582031 35.300781 C 27.90625 35.328125 27.9375 35.308594 28.007812 34.984375 C 28.382812 33.242188 27.625 30.925781 25.863281 28.425781 L 25.542969 27.96875 L 25.699219 27.785156 C 28.945312 23.960938 29.132812 18.699219 26.257812 11.96875 L 26.207031 11.84375 L 27.945312 12.703125 C 31.53125 14.476562 32.316406 14.800781 33.03125 14.800781 C 33.976562 14.800781 33.78125 13.9375 32.472656 12.292969 C 28.519531 7.355469 25.394531 5.925781 21.921875 7.472656 L 21.558594 7.636719 L 21.578125 7.542969 C 21.699219 6.992188 21.761719 5.742188 21.699219 5.164062 C 21.496094 3.296875 20.664062 1.964844 19.003906 0.855469 C 18.480469 0.503906 18.457031 0.5 18.214844 0.632812\"/>\n",
              "</g>\n",
              "      </svg>\n",
              "    "
            ],
            "text/plain": [
              "<IPython.core.display.HTML object>"
            ]
          },
          "metadata": {}
        }
      ]
    },
    {
      "cell_type": "code",
      "metadata": {
        "colab": {
          "base_uri": "https://localhost:8080/",
          "height": 521
        },
        "id": "2_sINyApLs9a",
        "outputId": "2dd4af1d-7746-4a09-d361-472151e2224c"
      },
      "source": [
        "##\n",
        "## clear() command is used to clear the screen\n",
        "## home() Moves the turtle to home()\n",
        "## goto(x,y) Moves the turtle to (x,y) position\n",
        "## penup() Lifts the pen up, So turtle will not trace\n",
        "## pendown() Puts the pen down, turtle will start tracing\n",
        "## showturtle() Shows the hiding turtle\n",
        "## hideturtle() Hides the turtle()\n",
        "\n",
        "width = 800\n",
        "height = 500\n",
        "topleft = (10,10)\n",
        "topright = (width-10,10)\n",
        "bottomleft = (10,height-10)\n",
        "bottomright = (width-10,height-10)\n",
        "\n",
        "##\n",
        "## Square\n",
        "##\n",
        "goto(topleft)\n",
        "pendown()\n",
        "clear()\n",
        "\n",
        "goto(topright)\n",
        "goto(bottomright)\n",
        "goto(bottomleft)\n",
        "goto(topleft)\n"
      ],
      "execution_count": 41,
      "outputs": [
        {
          "output_type": "display_data",
          "data": {
            "text/html": [
              "\n",
              "      <svg width=\"800\" height=\"500\">\n",
              "        <rect width=\"100%\" height=\"100%\" fill=\"black\"/>\n",
              "        <line x1=\"10\" y1=\"10\" x2=\"790\" y2=\"10\" stroke-linecap=\"round\" style=\"stroke:white;stroke-width:4\"/><line x1=\"790\" y1=\"10\" x2=\"790\" y2=\"490\" stroke-linecap=\"round\" style=\"stroke:white;stroke-width:4\"/><line x1=\"790\" y1=\"490\" x2=\"10\" y2=\"490\" stroke-linecap=\"round\" style=\"stroke:white;stroke-width:4\"/><line x1=\"10\" y1=\"490\" x2=\"10\" y2=\"10\" stroke-linecap=\"round\" style=\"stroke:white;stroke-width:4\"/>\n",
              "        <g visibility=hidden transform=\"rotate(360,10,10) translate(-8, -8)\">\n",
              "<path style=\" stroke:none;fill-rule:evenodd;fill:white;fill-opacity:1;\" d=\"M 18.214844 0.632812 C 16.109375 1.800781 15.011719 4.074219 15.074219 7.132812 L 15.085938 7.652344 L 14.785156 7.496094 C 13.476562 6.824219 11.957031 6.671875 10.40625 7.066406 C 8.46875 7.550781 6.515625 9.15625 4.394531 11.992188 C 3.0625 13.777344 2.679688 14.636719 3.042969 15.027344 L 3.15625 15.152344 L 3.519531 15.152344 C 4.238281 15.152344 4.828125 14.886719 8.1875 13.039062 C 9.386719 12.378906 10.371094 11.839844 10.378906 11.839844 C 10.386719 11.839844 10.355469 11.929688 10.304688 12.035156 C 9.832031 13.09375 9.257812 14.820312 8.96875 16.078125 C 7.914062 20.652344 8.617188 24.53125 11.070312 27.660156 C 11.351562 28.015625 11.363281 27.914062 10.972656 28.382812 C 8.925781 30.84375 7.945312 33.28125 8.238281 35.1875 C 8.289062 35.527344 8.28125 35.523438 8.917969 35.523438 C 10.941406 35.523438 13.074219 34.207031 15.136719 31.6875 C 15.359375 31.417969 15.328125 31.425781 15.5625 31.574219 C 16.292969 32.042969 18.023438 32.964844 18.175781 32.964844 C 18.335938 32.964844 19.941406 32.210938 20.828125 31.71875 C 20.996094 31.625 21.136719 31.554688 21.136719 31.558594 C 21.203125 31.664062 21.898438 32.414062 22.222656 32.730469 C 23.835938 34.300781 25.5625 35.132812 27.582031 35.300781 C 27.90625 35.328125 27.9375 35.308594 28.007812 34.984375 C 28.382812 33.242188 27.625 30.925781 25.863281 28.425781 L 25.542969 27.96875 L 25.699219 27.785156 C 28.945312 23.960938 29.132812 18.699219 26.257812 11.96875 L 26.207031 11.84375 L 27.945312 12.703125 C 31.53125 14.476562 32.316406 14.800781 33.03125 14.800781 C 33.976562 14.800781 33.78125 13.9375 32.472656 12.292969 C 28.519531 7.355469 25.394531 5.925781 21.921875 7.472656 L 21.558594 7.636719 L 21.578125 7.542969 C 21.699219 6.992188 21.761719 5.742188 21.699219 5.164062 C 21.496094 3.296875 20.664062 1.964844 19.003906 0.855469 C 18.480469 0.503906 18.457031 0.5 18.214844 0.632812\"/>\n",
              "</g>\n",
              "      </svg>\n",
              "    "
            ],
            "text/plain": [
              "<IPython.core.display.HTML object>"
            ]
          },
          "metadata": {}
        }
      ]
    },
    {
      "cell_type": "code",
      "metadata": {
        "colab": {
          "base_uri": "https://localhost:8080/"
        },
        "id": "-lftuCRjW2AT",
        "outputId": "c2c03b8b-3346-46a4-a120-3f0dfd422ed9"
      },
      "source": [
        "list1 = [1,2,3]\n",
        "list2 = [4,5,6]\n",
        "\n",
        "print(tuple(list1)+tuple(list2))"
      ],
      "execution_count": 38,
      "outputs": [
        {
          "output_type": "stream",
          "text": [
            "(1, 2, 3, 4, 5, 6)\n"
          ],
          "name": "stdout"
        }
      ]
    },
    {
      "cell_type": "code",
      "metadata": {
        "id": "rWbAZxDnXL2p"
      },
      "source": [
        ""
      ],
      "execution_count": null,
      "outputs": []
    }
  ]
}